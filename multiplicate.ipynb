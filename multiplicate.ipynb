{
 "cells": [
  {
   "cell_type": "code",
   "execution_count": null,
   "id": "3a59feef",
   "metadata": {},
   "outputs": [],
   "source": [
    "def multiplicate(A):\n",
    "    mul = 1\n",
    "    for i in A:\n",
    "        mul *= i\n",
    "    res = [mul]*len(A)\n",
    "    for i in range(len(A)):\n",
    "        res[i]"
   ]
  }
 ],
 "metadata": {
  "kernelspec": {
   "display_name": "Python 3 (ipykernel)",
   "language": "python",
   "name": "python3"
  },
  "language_info": {
   "codemirror_mode": {
    "name": "ipython",
    "version": 3
   },
   "file_extension": ".py",
   "mimetype": "text/x-python",
   "name": "python",
   "nbconvert_exporter": "python",
   "pygments_lexer": "ipython3",
   "version": "3.9.7"
  }
 },
 "nbformat": 4,
 "nbformat_minor": 5
}
